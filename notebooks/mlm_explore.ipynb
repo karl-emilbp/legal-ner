{
 "cells": [
  {
   "cell_type": "markdown",
   "metadata": {},
   "source": [
    "# Masked Language Modelling exploration\n",
    "This notebook compares the performance of the pre-trained xlm-roberta-base and the domain adapted xlm-roberta-base model."
   ]
  },
  {
   "cell_type": "code",
   "execution_count": 2,
   "metadata": {},
   "outputs": [],
   "source": [
    "from transformers import pipeline"
   ]
  },
  {
   "cell_type": "code",
   "execution_count": 3,
   "metadata": {},
   "outputs": [],
   "source": [
    "xlm_roberta_base_checkpoint = 'xlm-roberta-base'\n",
    "domain_adapted_checkpoint = '../models/xlm_roberta_domain_adapted_lm'"
   ]
  },
  {
   "cell_type": "code",
   "execution_count": 7,
   "metadata": {},
   "outputs": [],
   "source": [
    "unmasker_base = pipeline('fill-mask', model=xlm_roberta_base_checkpoint)\n",
    "unkmasker_domain_adapted = pipeline('fill-mask', model=domain_adapted_checkpoint)"
   ]
  },
  {
   "cell_type": "code",
   "execution_count": 48,
   "metadata": {},
   "outputs": [
    {
     "data": {
      "text/plain": [
       "[{'score': 0.3048328459262848,\n",
       "  'token': 124,\n",
       "  'token_str': 'som',\n",
       "  'sequence': 'Den som skal dømmes efter § 10 i straffeloven.'},\n",
       " {'score': 0.10908777266740799,\n",
       "  'token': 37304,\n",
       "  'token_str': 'tredje',\n",
       "  'sequence': 'Den tredje skal dømmes efter § 10 i straffeloven.'},\n",
       " {'score': 0.058880776166915894,\n",
       "  'token': 4539,\n",
       "  'token_str': 'dom',\n",
       "  'sequence': 'Den dom skal dømmes efter § 10 i straffeloven.'},\n",
       " {'score': 0.053336989134550095,\n",
       "  'token': 5262,\n",
       "  'token_str': 'første',\n",
       "  'sequence': 'Den første skal dømmes efter § 10 i straffeloven.'},\n",
       " {'score': 0.04663150757551193,\n",
       "  'token': 3445,\n",
       "  'token_str': 'person',\n",
       "  'sequence': 'Den person skal dømmes efter § 10 i straffeloven.'}]"
      ]
     },
     "execution_count": 48,
     "metadata": {},
     "output_type": "execute_result"
    }
   ],
   "source": [
    "sent = 'Den <mask> skal dømmes efter § 10 i straffeloven.'\n",
    "unmasker_base(sent)"
   ]
  },
  {
   "cell_type": "code",
   "execution_count": 49,
   "metadata": {},
   "outputs": [
    {
     "data": {
      "text/plain": [
       "[{'score': 0.8259225487709045,\n",
       "  'token': 250020,\n",
       "  'token_str': 'tiltalte',\n",
       "  'sequence': 'Dentiltalteskal dømmes efter § 10 istraffeloven.'},\n",
       " {'score': 0.11031698435544968,\n",
       "  'token': 250069,\n",
       "  'token_str': 'forurettede',\n",
       "  'sequence': 'Denforurettedeskal dømmes efter § 10 istraffeloven.'},\n",
       " {'score': 0.010971857234835625,\n",
       "  'token': 250058,\n",
       "  'token_str': 'pågældende',\n",
       "  'sequence': 'Denpågældendeskal dømmes efter § 10 istraffeloven.'},\n",
       " {'score': 0.010491923429071903,\n",
       "  'token': 255352,\n",
       "  'token_str': 'domfældte',\n",
       "  'sequence': 'Dendomfældteskal dømmes efter § 10 istraffeloven.'},\n",
       " {'score': 0.0042438507080078125,\n",
       "  'token': 418,\n",
       "  'token_str': '1',\n",
       "  'sequence': 'Den1skal dømmes efter § 10 istraffeloven.'}]"
      ]
     },
     "execution_count": 49,
     "metadata": {},
     "output_type": "execute_result"
    }
   ],
   "source": [
    "unkmasker_domain_adapted(sent)"
   ]
  },
  {
   "cell_type": "code",
   "execution_count": 50,
   "metadata": {},
   "outputs": [
    {
     "data": {
      "text/plain": [
       "[{'score': 0.6138380169868469,\n",
       "  'token': 106393,\n",
       "  'token_str': 'straffe',\n",
       "  'sequence': 'Den tiltalte skal straffe efter § 10 i straffeloven.'},\n",
       " {'score': 0.08996597677469254,\n",
       "  'token': 23092,\n",
       "  'token_str': 'følge',\n",
       "  'sequence': 'Den tiltalte skal følge efter § 10 i straffeloven.'},\n",
       " {'score': 0.021848684176802635,\n",
       "  'token': 15948,\n",
       "  'token_str': 'leve',\n",
       "  'sequence': 'Den tiltalte skal leve efter § 10 i straffeloven.'},\n",
       " {'score': 0.020240597426891327,\n",
       "  'token': 193299,\n",
       "  'token_str': 'medvirke',\n",
       "  'sequence': 'Den tiltalte skal medvirke efter § 10 i straffeloven.'},\n",
       " {'score': 0.018529867753386497,\n",
       "  'token': 79624,\n",
       "  'token_str': 'lide',\n",
       "  'sequence': 'Den tiltalte skal lide efter § 10 i straffeloven.'}]"
      ]
     },
     "execution_count": 50,
     "metadata": {},
     "output_type": "execute_result"
    }
   ],
   "source": [
    "sent = 'Den tiltalte skal <mask> efter § 10 i straffeloven.'\n",
    "unmasker_base(sent)"
   ]
  },
  {
   "cell_type": "code",
   "execution_count": 51,
   "metadata": {},
   "outputs": [
    {
     "data": {
      "text/plain": [
       "[{'score': 0.9968768358230591,\n",
       "  'token': 252666,\n",
       "  'token_str': 'straffes',\n",
       "  'sequence': 'Dentiltalteskalstraffes efter § 10 istraffeloven.'},\n",
       " {'score': 0.0016226795269176364,\n",
       "  'token': 250212,\n",
       "  'token_str': 'findes',\n",
       "  'sequence': 'Dentiltalteskalfindes efter § 10 istraffeloven.'},\n",
       " {'score': 0.00015966029604896903,\n",
       "  'token': 253694,\n",
       "  'token_str': 'tiltalt',\n",
       "  'sequence': 'Dentiltalteskaltiltalt efter § 10 istraffeloven.'},\n",
       " {'score': 0.00010120770457433537,\n",
       "  'token': 258630,\n",
       "  'token_str': 'konfiskeres',\n",
       "  'sequence': 'Dentiltalteskalkonfiskeres efter § 10 istraffeloven.'},\n",
       " {'score': 5.284590952214785e-05,\n",
       "  'token': 256442,\n",
       "  'token_str': 'forvaring',\n",
       "  'sequence': 'Dentiltalteskalforvaring efter § 10 istraffeloven.'}]"
      ]
     },
     "execution_count": 51,
     "metadata": {},
     "output_type": "execute_result"
    }
   ],
   "source": [
    "unkmasker_domain_adapted(sent)"
   ]
  },
  {
   "cell_type": "code",
   "execution_count": 52,
   "metadata": {},
   "outputs": [
    {
     "data": {
      "text/plain": [
       "[{'score': 0.36730456352233887,\n",
       "  'token': 14964,\n",
       "  'token_str': 'lov',\n",
       "  'sequence': 'Den tiltalte skal dømmes efter § 10 i lov.'},\n",
       " {'score': 0.09756876528263092,\n",
       "  'token': 8992,\n",
       "  'token_str': 'KU',\n",
       "  'sequence': 'Den tiltalte skal dømmes efter § 10 i KU.'},\n",
       " {'score': 0.04576253890991211,\n",
       "  'token': 5,\n",
       "  'token_str': '.',\n",
       "  'sequence': 'Den tiltalte skal dømmes efter § 10 i..'},\n",
       " {'score': 0.030843527987599373,\n",
       "  'token': 39701,\n",
       "  'token_str': 'Lov',\n",
       "  'sequence': 'Den tiltalte skal dømmes efter § 10 i Lov.'},\n",
       " {'score': 0.025270933285355568,\n",
       "  'token': 39833,\n",
       "  'token_str': 'KR',\n",
       "  'sequence': 'Den tiltalte skal dømmes efter § 10 i KR.'}]"
      ]
     },
     "execution_count": 52,
     "metadata": {},
     "output_type": "execute_result"
    }
   ],
   "source": [
    "sent = 'Den tiltalte skal dømmes efter § 10 i <mask>.'\n",
    "unmasker_base(sent)"
   ]
  },
  {
   "cell_type": "code",
   "execution_count": 53,
   "metadata": {},
   "outputs": [
    {
     "data": {
      "text/plain": [
       "[{'score': 0.9095596671104431,\n",
       "  'token': 250397,\n",
       "  'token_str': 'straffeloven',\n",
       "  'sequence': 'Dentiltalteskal dømmes efter § 10 istraffeloven.'},\n",
       " {'score': 0.017594344913959503,\n",
       "  'token': 260051,\n",
       "  'token_str': 'våbenloven',\n",
       "  'sequence': 'Dentiltalteskal dømmes efter § 10 ivåbenloven.'},\n",
       " {'score': 0.011954744346439838,\n",
       "  'token': 252139,\n",
       "  'token_str': 'færdselsloven',\n",
       "  'sequence': 'Dentiltalteskal dømmes efter § 10 ifærdselsloven.'},\n",
       " {'score': 0.006552980747073889,\n",
       "  'token': 253731,\n",
       "  'token_str': 'anklageskriftet',\n",
       "  'sequence': 'Dentiltalteskal dømmes efter § 10 ianklageskriftet.'},\n",
       " {'score': 0.004991250578314066,\n",
       "  'token': 250164,\n",
       "  'token_str': 'bestemmelsen',\n",
       "  'sequence': 'Dentiltalteskal dømmes efter § 10 ibestemmelsen.'}]"
      ]
     },
     "execution_count": 53,
     "metadata": {},
     "output_type": "execute_result"
    }
   ],
   "source": [
    "unkmasker_domain_adapted(sent)"
   ]
  }
 ],
 "metadata": {
  "kernelspec": {
   "display_name": "Python 3.9.12 ('ner')",
   "language": "python",
   "name": "python3"
  },
  "language_info": {
   "codemirror_mode": {
    "name": "ipython",
    "version": 3
   },
   "file_extension": ".py",
   "mimetype": "text/x-python",
   "name": "python",
   "nbconvert_exporter": "python",
   "pygments_lexer": "ipython3",
   "version": "3.9.12"
  },
  "orig_nbformat": 4,
  "vscode": {
   "interpreter": {
    "hash": "d66191e947aa68313bb5c8e3aaa99a56fb09ab158f4d78dc49442376e9c349bc"
   }
  }
 },
 "nbformat": 4,
 "nbformat_minor": 2
}
